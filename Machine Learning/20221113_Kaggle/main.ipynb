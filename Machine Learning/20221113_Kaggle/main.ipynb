{
  "nbformat": 4,
  "nbformat_minor": 0,
  "metadata": {
    "colab": {
      "provenance": [],
      "authorship_tag": "ABX9TyNgJrn5JWIgtb3ohw+Us/wi",
      "include_colab_link": true
    },
    "kernelspec": {
      "name": "python3",
      "display_name": "Python 3"
    },
    "language_info": {
      "name": "python"
    }
  },
  "cells": [
    {
      "cell_type": "markdown",
      "metadata": {
        "id": "view-in-github",
        "colab_type": "text"
      },
      "source": [
        "<a href=\"https://colab.research.google.com/github/ThunderCold/Brain-Computer-Interface/blob/main/Machine%20Learning/20221113_Kaggle.ipynb\" target=\"_parent\"><img src=\"https://colab.research.google.com/assets/colab-badge.svg\" alt=\"Open In Colab\"/></a>"
      ]
    },
    {
      "cell_type": "markdown",
      "source": [
        "## 準備訓練資料與驗證資料"
      ],
      "metadata": {
        "id": "kP0xzuYRAVaC"
      }
    },
    {
      "cell_type": "code",
      "execution_count": null,
      "metadata": {
        "id": "lgJGhpzgAJi8"
      },
      "outputs": [],
      "source": [
        "# 匯入必要模組\n",
        "import pandas as pd\n",
        "from sklearn.model_selection import train_test_split\n",
        "from sklearn import preprocessing\n",
        "from google.colab import drive"
      ]
    },
    {
      "cell_type": "code",
      "source": [
        "# 將 Google Colab 連線至 Google Drive\n",
        "drive.mount('/content/drive')"
      ],
      "metadata": {
        "id": "tbiEzr3TAmv2"
      },
      "execution_count": null,
      "outputs": []
    },
    {
      "cell_type": "code",
      "source": [
        "# 讀入資料集\n",
        "df = pd.read_csv('/content/drive/MyDrive/ML/Train_data.csv')\n",
        "df_test = pd.read_csv('/content/drive/MyDrive/ML/Test_data.csv')"
      ],
      "metadata": {
        "id": "kTm0s2PUA1Fu"
      },
      "execution_count": null,
      "outputs": []
    },
    {
      "cell_type": "code",
      "source": [
        "# 移除缺失值\n",
        "for i in df.columns:\n",
        "    df = df.drop(index=df[df[i].isnull()].index)\n",
        "\n",
        "for i in df_test.columns:\n",
        "    df_test=df_test.drop(index=df_test[df_test[i].isnull()].index)"
      ],
      "metadata": {
        "id": "271zki7dBB8y"
      },
      "execution_count": null,
      "outputs": []
    },
    {
      "cell_type": "code",
      "source": [
        "# 轉換非數字型態之特徵值\n",
        "df[\"gender\"] = df[\"gender\"].map({'M':1, 'F':0})\n",
        "df_test[\"gender\"]=df_test[\"gender\"].map({'M':1, 'F':0})\n",
        "\n",
        "le = preprocessing.LabelEncoder()\n",
        "le.fit(['A','B','C','D'])\n",
        "df['class']=le.transform(df['class'])"
      ],
      "metadata": {
        "id": "bBcNR1rFDxRv"
      },
      "execution_count": null,
      "outputs": []
    },
    {
      "cell_type": "code",
      "source": [
        "# 分割輸入與輸出值\n",
        "x = df.iloc[:, :-1]\n",
        "y = df.iloc[:, -1]\n",
        "y = y.astype('int')\n",
        "\n",
        "# 分割 train data 與 test data\n",
        "x_train, x_validation, y_train, y_validation = train_test_split(x, y, test_size=0.2)"
      ],
      "metadata": {
        "id": "z8UZ7f_yE5MX"
      },
      "execution_count": null,
      "outputs": []
    },
    {
      "cell_type": "code",
      "source": [
        "# 將資料進行標準化\n",
        "minmax = preprocessing.MinMaxScaler()\n",
        "\n",
        "x_train = minmax.fit_transform(x_train)\n",
        "x_validation = minmax.transform(x_validation)\n",
        "df_test = minmax.transform(df_test)"
      ],
      "metadata": {
        "id": "uah6-Vp7GCaN"
      },
      "execution_count": null,
      "outputs": []
    },
    {
      "cell_type": "markdown",
      "source": [
        "## 訓練機器學習模型（Dicision Tree）"
      ],
      "metadata": {
        "id": "AbA3Ca3JTc2a"
      }
    },
    {
      "cell_type": "code",
      "source": [
        "from sklearn.tree import DecisionTreeClassifier\n",
        "\n",
        "# 建立模型並設置參數\n",
        "model = DecisionTreeClassifier(max_depth=10)\n",
        "\n",
        "# 帶入資料並訓練\n",
        "model.fit(x_train, y_train)\n",
        "\n",
        "print(f'Accuracy on validation set is {model.score(x_validation, y_validation)}')"
      ],
      "metadata": {
        "id": "hQa39cMeTjBn"
      },
      "execution_count": null,
      "outputs": []
    },
    {
      "cell_type": "markdown",
      "source": [
        "## 訓練機器學習模型（Random Forest）"
      ],
      "metadata": {
        "id": "bAW1FgQcjHDF"
      }
    },
    {
      "cell_type": "code",
      "source": [
        "from sklearn.ensemble import RandomForestClassifier\n",
        "\n",
        "# 建立模型並設置參數\n",
        "model = RandomForestClassifier(n_estimators=500,random_state=0,max_depth=10)\n",
        "\n",
        "# 帶入資料並訓練\n",
        "model.fit(x_train, y_train)\n",
        "\n",
        "print(f'Accuracy on validation set is {model.score(x_validation, y_validation)}')"
      ],
      "metadata": {
        "id": "6oEXnmfXjHzE"
      },
      "execution_count": null,
      "outputs": []
    },
    {
      "cell_type": "markdown",
      "source": [
        "## 輸出結果"
      ],
      "metadata": {
        "id": "cv9PHddxfNsM"
      }
    },
    {
      "cell_type": "code",
      "source": [
        "# 產生預測結果\n",
        "data_id = range(1,2041)\n",
        "level = model.predict(df_test)\n",
        "\n",
        "# 產生資料集最終結果\n",
        "mydict = {\"data_id\":data_id, \"level\":level}\n",
        "df_output = pd.DataFrame(mydict)\n",
        "\n",
        "# 將數字特徵值轉換回文字型態\n",
        "for i in df_output[\"level\"].index:\n",
        "    if df_output[\"level\"][i] == 0:\n",
        "        df_output[\"level\"][i] = 'A'\n",
        "    if df_output[\"level\"][i] == 1:\n",
        "        df_output[\"level\"][i] = 'B'\n",
        "    if df_output[\"level\"][i] == 2:\n",
        "        df_output[\"level\"][i] = 'C'\n",
        "    if df_output[\"level\"][i] == 3:\n",
        "        df_output[\"level\"][i] = 'D'\n",
        "\n",
        "# 輸出為 CSV 檔\n",
        "df_output.to_csv()"
      ],
      "metadata": {
        "id": "lYKxdW18fTvU"
      },
      "execution_count": null,
      "outputs": []
    }
  ]
}
